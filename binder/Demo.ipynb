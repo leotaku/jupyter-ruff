{
 "cells": [
  {
   "cell_type": "markdown",
   "id": "c190bc4c-8845-4639-8c01-ecacccebcaf2",
   "metadata": {},
   "source": [
    "# Demo for `jupyter-ruff`"
   ]
  },
  {
   "cell_type": "markdown",
   "id": "80c641de-a21d-478c-8236-da2caf989348",
   "metadata": {},
   "source": [
    "## 1. Format cell using context menu\n",
    "\n",
    "- First, right-click on the code cell below to bring up the context menu. \n",
    "- You should see an item that offers to \"Format Cell Using Ruff\". Click it!\n",
    "- The code cell will now be formatted correctly.\n",
    "\n",
    "If you select multiple cells, all of them will be formatted."
   ]
  },
  {
   "cell_type": "code",
   "execution_count": null,
   "id": "1bca7730-b7aa-49d6-a8b2-103617dc2f51",
   "metadata": {},
   "outputs": [],
   "source": [
    "def fibonacci(n ):\n",
    "  if n<2:\n",
    "    return  n\n",
    "  else:\n",
    "    return fibonacci(n-1)+fibonacci(n-2)"
   ]
  },
  {
   "cell_type": "markdown",
   "id": "fb094227-e024-4485-817a-b649f2cd1328",
   "metadata": {},
   "source": [
    "If the code cell contains imports, they will also be sorted."
   ]
  },
  {
   "cell_type": "code",
   "execution_count": null,
   "id": "436f92fc-ea8f-461e-8bcd-e09a178bda89",
   "metadata": {},
   "outputs": [],
   "source": [
    "from pathlib import Path\n",
    "import   os\n",
    "\n",
    "Path(\n",
    "    os.getenv(\"HOME\")\n",
    ").exists()"
   ]
  },
  {
   "cell_type": "markdown",
   "id": "5fb47a75-8d00-428f-b3fe-31af27fba4f8",
   "metadata": {},
   "source": [
    "## 2. Format all code cells using the Edit menu\n",
    "\n",
    "- First, left-click on the \"Edit\" entry in the main menu.\n",
    "- You should see an item that offers to \"Format All Cells Using Ruff\". Click it!\n",
    "- All code cells will now be formatted correctly."
   ]
  },
  {
   "cell_type": "code",
   "execution_count": null,
   "id": "3e4957ad-634e-4535-98ab-7f82bd027bd3",
   "metadata": {},
   "outputs": [],
   "source": [
    "def fizzbuzz(n):\n",
    "    for i in range(1, n + 1):\n",
    "        if i%15 == 0:\n",
    "         yield     \"FizzBuzz\"\n",
    "        elif i%3 == 0:\n",
    "           yield   \"Fizz\"\n",
    "        elif i%5 == 0:\n",
    "            yield  \"Buzz\"\n",
    "        else:\n",
    "              yield i"
   ]
  },
  {
   "cell_type": "markdown",
   "id": "3184c566-b3f9-49ea-b6d5-d704bf2d7093",
   "metadata": {},
   "source": [
    "## 3. Format cells automatically as you run them\n",
    "\n",
    "- Open the \"Settings Editor\" using the \"Settings\" menu.\n",
    "- Navigate to the \"Jupyter Ruff\" settings entry.\n",
    "- Enable the \"Format on Run\" setting.\n",
    "- Code cells will now be automatically formatted as you run them.\n",
    "\n",
    "This option mimics the behavior of the venerable `nb_black` extension."
   ]
  },
  {
   "cell_type": "markdown",
   "id": "7b41d557-d378-4a93-be22-a09fd160cb8b",
   "metadata": {},
   "source": [
    "## 4. Format cells automatically as you save the notebook\n",
    "\n",
    "- Open the \"Settings Editor\" using the \"Settings\" menu.\n",
    "- Navigate to the \"Jupyter Ruff\" settings entry.\n",
    "- Enable the \"Format on Save\" setting.\n",
    "- Code cells will now be automatically formatted as you save the containing notebook."
   ]
  },
  {
   "cell_type": "markdown",
   "id": "e648773f-9a9c-452e-ad52-e7f14f4c5ec1",
   "metadata": {},
   "source": [
    "## 5. Format `.py` files from within Jupyter\n",
    "\n",
    "- Open the included `ballmer.py` file.\n",
    "- Run the command \"Format Editor Contents Using Ruff\".\n",
    "- The code in the editor window will now be formatted correctly."
   ]
  },
  {
   "cell_type": "markdown",
   "id": "37dfb1b2-8d50-4b8d-b8b5-065f4c195c07",
   "metadata": {},
   "source": [
    "## 6. Add a configuration file\n",
    "\n",
    "- Add a configuration file as described in the Ruff documentation [here](https://docs.astral.sh/ruff/configuration/).\n",
    "- Run the command \"Reload On-Disk Configuration Files for Ruff\".\n",
    "- Formatting will now follow the rules you have configured.\n",
    "\n",
    "However, note that Ruff and `jupyter-ruff` have good defaults. \n",
    "Only add a configuration file if you have to!"
   ]
  }
 ],
 "metadata": {
  "kernelspec": {
   "display_name": "Python 3 (ipykernel)",
   "language": "python",
   "name": "python3"
  },
  "language_info": {
   "codemirror_mode": {
    "name": "ipython",
    "version": 3
   },
   "file_extension": ".py",
   "mimetype": "text/x-python",
   "name": "python",
   "nbconvert_exporter": "python",
   "pygments_lexer": "ipython3",
   "version": "3.13.1"
  }
 },
 "nbformat": 4,
 "nbformat_minor": 5
}
